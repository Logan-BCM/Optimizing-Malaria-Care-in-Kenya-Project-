{
 "cells": [
  {
   "cell_type": "markdown",
   "metadata": {},
   "source": [
    "# Optimizing Malaria Care in Kenya: An Unsupervised Learning Approach for Segmenting Health Facility Preparedness\n",
    "***\n"
   ]
  },
  {
   "cell_type": "markdown",
   "metadata": {},
   "source": [
    "## BUSINESS UNDERSTANDING\n",
    "***\n",
    "### Business Overview\n",
    "Malaria remains a major public health challenge in many countries, significantly impacting morbidity and mortality rates, particularly among vulnerable populations. From a study in 2022, nearly 3.42 million cases of malaria were confirmed in Kenya along with some 219 deaths. The National Malaria Control Program (NMCP) is the organization committed to reducing malaria-related deaths through improved healthcare delivery, effective treatment protocols, and strengthened health facility preparedness in Kenya. This project leverages nationwide survey data to assess the quality of malaria care focusing on facility readiness, health worker competencies, and patient outcomes. By employing advanced analytics and deep learning techniques, the project aims to provide actionable insights that can drive targeted interventions and resource allocation.\n"
   ]
  },
  {
   "cell_type": "markdown",
   "metadata": {},
   "source": [
    "### Problem Statement\n",
    "The National Malaria Control Program (NMCP), the primary stakeholder in this initiative, is tasked with reducing malaria morbidity and mortality by 75% relative to 2016 levels by 2029. However, recent funding pauses from major donors such as USAID and WHO have intensified the need for targeted, cost-effective interventions. These pauses have further limited the NMCP’s capacity to expand interventions. Existing monitoring systems, which rely on high-dimensional survey data, lack the predictive precision and granularity needed to pinpoint specific deficiencies and inform targeted, cost-effective improvements. NMCP decision-makers require a precise, data-driven method to:\n",
    "•\tIdentify which health facilities are underperforming in terms of preparedness and case management.\n",
    "•\tPrioritize limited resources and design interventions that address specific weaknesses.\n",
    "•\tMonitor performance improvements over time and adjust strategies rapidly.\n"
   ]
  },
  {
   "cell_type": "markdown",
   "metadata": {},
   "source": [
    "### Proposed Solution\n",
    "#### Methodology Overview:\n",
    "The project will use a two-step modeling approach:\n",
    "•\tStep 1: Autoencoder Development\n",
    "A neural network-based autoencoder will be constructed and trained on the multi-dimensional survey data. This model will compress the data into a latent representation that captures essential, non-linear relationships among key indicators (infrastructure, supply chain, health worker competencies). Success will be measured by a low reconstruction loss (target MSE ≤ 0.015 on normalized data).\n",
    "•\tStep 2: Clustering in the Latent Space\n",
    "The latent features obtained from the autoencoder will serve as input to a clustering algorithm (e.g., K-Means). Clusters will be evaluated using metrics such as the silhouette score (target ≥ 0.55) and Davies-Bouldin index (target < 1.0), ensuring well-separated and compact groups.\n"
   ]
  },
  {
   "cell_type": "markdown",
   "metadata": {},
   "source": [
    "### Main Objective\n",
    "Develop an unsupervised learning pipeline that leverages a neural network–based autoencoder to learn a compact, latent representation of the survey data. Subsequently, apply a clustering algorithm (e.g., K-Means) on these latent features to identify distinct groups. This model aims to capture the complex non-linear relationships in the data and produce actionable segments for targeted interventions.\n"
   ]
  },
  {
   "cell_type": "markdown",
   "metadata": {},
   "source": [
    "### Success Criteria\n",
    "Autoencoder Reconstruction (MSE):\n",
    "•\tAim for an MSE of 0.015 or lower on normalized validation data, meaning the autoencoder accurately rebuilds the input.\n",
    "Clustering Quality (Silhouette Score):\n",
    "•\tTarget an average silhouette score of 0.55 or higher (ideally around 0.60) to ensure clusters are well separated.\n",
    "Cluster Stability:\n",
    "•\tAchieve a cluster assignment consistency (e.g., measured by Jaccard similarity) of 0.8 or higher across different runs.\n",
    "\n"
   ]
  },
  {
   "cell_type": "markdown",
   "metadata": {},
   "source": [
    "### Specific Objectives\n",
    "1.\tAssess Facility Preparedness:\n",
    "Evaluate the readiness of health facilities by integrating data on infrastructure (e.g., electricity, water, equipment availability) and medication stocks, laboratory stocks and training indicators\n",
    "2.\tInvestigate what latent (hidden) factors underlie the observed variability in facility performance that traditional linear models might overlook?\n",
    "3.\tEvaluate Health Worker Competence:\n",
    "Analyze survey responses on training, treatment knowledge, and experience to score health workers and identify areas where further training is needed.\n",
    "4.\tAnalyze Patient Outcomes and Satisfaction:\n",
    "Utilize exit survey data to determine patient treatment outcomes and satisfaction levels. \n",
    "5.\tIdentify Regional Patterns and Key Drivers:\n",
    "Examine how facility preparedness and health worker performance vary by region or facility type, highlighting the main factors that influence these differences to support targeted interventions.\n"
   ]
  },
  {
   "cell_type": "markdown",
   "metadata": {},
   "source": [
    "## DATA UNDERSTANDING\n",
    "The data originates from a National Annual Quality of Care Survey conducted by the National Malaria Control Program (NMCP) in Kenya. This survey is administered annually to assess various aspects of malaria care quality across the country.\n",
    "The survey collects comprehensive information from multiple perspectives, including facility preparedness, health worker knowledge, and patient experiences. \n",
    "The datasets provided include:\n",
    "1.\tHealth Facility Questionnaires (hf1.xlsx, hf2.xlsx, hf3.xlsx):\n",
    "These three files represent different sections of a comprehensive survey on health facility preparedness for malaria care. They include details on infrastructure (electricity, water, equipment), medication stocks, laboratory capacities, logistics, and adherence to treatment protocols.\n",
    "Data Types:\n",
    "Categorical/Binary: Many responses (e.g., yes/no for equipment functionality, presence of guidelines)\n",
    "Ordinal/Rating: Some indicators are provided as ratings or levels (e.g., facility level, staff qualifications)\n",
    "Continuous/Numerical: Counts (e.g., number of medication packs, patient load) and dates (e.g., last supervisory visit).\n",
    "A unique facility identifier (originally noted as P_HF) appears in all three files.\n",
    "2.\tHealth Worker Questionnaire (hw.xlsx):\n",
    "This dataset contains information on individual health workers, including demographics, training records, and a knowledge assessment related to malaria treatment protocols.\n",
    "Data Types:\n",
    "Numerical: Knowledge assessment scores, years of experience\n",
    "Categorical: Cadre, type of training received, gender, medication to be administered.\n",
    "It provides context on the human factors that can influence facility performance.\n",
    "3.\tExit Survey Data (exit.xlsx):\n",
    "This dataset captures patient-level information such as demographics, treatment received, and satisfaction levels. It offers critical insights into patient outcomes and service quality.\n",
    "Data Types:\n",
    "Categorical: Patient sex, diagnosis, treatment outcome.\n",
    "Numerical: Age, sometimes quantitative satisfaction ratings.\n",
    "\n"
   ]
  }
 ],
 "metadata": {
  "language_info": {
   "name": "python"
  }
 },
 "nbformat": 4,
 "nbformat_minor": 2
}
