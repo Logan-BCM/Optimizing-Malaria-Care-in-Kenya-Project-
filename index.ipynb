{
 "cells": [
  {
   "cell_type": "markdown",
   "metadata": {},
   "source": [
    "# Optimizing Malaria Care in Kenya: An Unsupervised Learning Approach for Segmenting Health Facility Preparedness\n",
    "***\n"
   ]
  },
  {
   "cell_type": "markdown",
   "metadata": {},
   "source": [
    "## BUSINESS UNDERSTANDING\n",
    "***\n",
    "### Business Overview\n",
    "Malaria remains a major public health challenge in many countries, significantly impacting morbidity and mortality rates, particularly among vulnerable populations. From a study in 2022, nearly 3.42 million cases of malaria were confirmed in Kenya along with some 219 deaths. The National Malaria Control Program (NMCP) is the organization committed to reducing malaria-related deaths through improved healthcare delivery, effective treatment protocols, and strengthened health facility preparedness in Kenya. This project leverages nationwide survey data to assess the quality of malaria care focusing on facility readiness, health worker competencies, and patient outcomes. By employing advanced analytics and deep learning techniques, the project aims to provide actionable insights that can drive targeted interventions and resource allocation.\n"
   ]
  },
  {
   "cell_type": "markdown",
   "metadata": {},
   "source": [
    "### Problem Statement\n",
    "The National Malaria Control Program (NMCP), the primary stakeholder in this initiative, is tasked with reducing malaria morbidity and mortality by 75% relative to 2016 levels by 2029. However, recent funding pauses from major donors such as USAID and WHO have intensified the need for targeted, cost-effective interventions. These pauses have further limited the NMCP’s capacity to expand interventions. Existing monitoring systems, which rely on high-dimensional survey data, lack the predictive precision and granularity needed to pinpoint specific deficiencies and inform targeted, cost-effective improvements. NMCP decision-makers require a precise, data-driven method to:\n",
    "•\tIdentify which health facilities are underperforming in terms of preparedness and case management.\n",
    "•\tPrioritize limited resources and design interventions that address specific weaknesses.\n",
    "•\tMonitor performance improvements over time and adjust strategies rapidly.\n"
   ]
  },
  {
   "cell_type": "markdown",
   "metadata": {},
   "source": [
    "### Proposed Solution\n",
    "#### Methodology Overview:\n",
    "The project will use a two-step modeling approach:\n",
    "•\tStep 1: Autoencoder Development\n",
    "A neural network-based autoencoder will be constructed and trained on the multi-dimensional survey data. This model will compress the data into a latent representation that captures essential, non-linear relationships among key indicators (infrastructure, supply chain, health worker competencies). Success will be measured by a low reconstruction loss (target MSE ≤ 0.015 on normalized data).\n",
    "•\tStep 2: Clustering in the Latent Space\n",
    "The latent features obtained from the autoencoder will serve as input to a clustering algorithm (e.g., K-Means). Clusters will be evaluated using metrics such as the silhouette score (target ≥ 0.55) and Davies-Bouldin index (target < 1.0), ensuring well-separated and compact groups.\n"
   ]
  },
  {
   "cell_type": "markdown",
   "metadata": {},
   "source": [
    "### Main Objective\n",
    "Develop an unsupervised learning pipeline that leverages a neural network–based autoencoder to learn a compact, latent representation of the survey data. Subsequently, apply a clustering algorithm (e.g., K-Means) on these latent features to identify distinct groups. This model aims to capture the complex non-linear relationships in the data and produce actionable segments for targeted interventions.\n"
   ]
  },
  {
   "cell_type": "markdown",
   "metadata": {},
   "source": [
    "### Success Criteria\n",
    "Autoencoder Reconstruction (MSE):\n",
    "•\tAim for an MSE of 0.015 or lower on normalized validation data, meaning the autoencoder accurately rebuilds the input.\n",
    "Clustering Quality (Silhouette Score):\n",
    "•\tTarget an average silhouette score of 0.55 or higher (ideally around 0.60) to ensure clusters are well separated.\n",
    "Cluster Stability:\n",
    "•\tAchieve a cluster assignment consistency (e.g., measured by Jaccard similarity) of 0.8 or higher across different runs.\n",
    "\n"
   ]
  },
  {
   "cell_type": "markdown",
   "metadata": {},
   "source": [
    "### Specific Objectives\n",
    "1.\tAssess Facility Preparedness:\n",
    "Evaluate the readiness of health facilities by integrating data on infrastructure (e.g., electricity, water, equipment availability) and medication stocks, laboratory stocks and training indicators\n",
    "2.\tInvestigate what latent (hidden) factors underlie the observed variability in facility performance that traditional linear models might overlook?\n",
    "3.\tEvaluate Health Worker Competence:\n",
    "Analyze survey responses on training, treatment knowledge, and experience to score health workers and identify areas where further training is needed.\n",
    "4.\tAnalyze Patient Outcomes and Satisfaction:\n",
    "Utilize exit survey data to determine patient treatment outcomes and satisfaction levels. \n",
    "5.\tIdentify Regional Patterns and Key Drivers:\n",
    "Examine how facility preparedness and health worker performance vary by region or facility type, highlighting the main factors that influence these differences to support targeted interventions.\n"
   ]
  },
  {
   "cell_type": "markdown",
   "metadata": {},
   "source": [
    "## DATA UNDERSTANDING\n",
    "The data originates from a National Annual Quality of Care Survey conducted by the National Malaria Control Program (NMCP) in Kenya. This survey is administered annually to assess various aspects of malaria care quality across the country.\n",
    "The survey collects comprehensive information from multiple perspectives, including facility preparedness, health worker knowledge, and patient experiences. \n",
    "The datasets provided include:\n",
    "1.\tHealth Facility Questionnaires (hf1.xlsx, hf2.xlsx, hf3.xlsx):\n",
    "These three files represent different sections of a comprehensive survey on health facility preparedness for malaria care. They include details on infrastructure (electricity, water, equipment), medication stocks, laboratory capacities, logistics, and adherence to treatment protocols.\n",
    "Data Types:\n",
    "Categorical/Binary: Many responses (e.g., yes/no for equipment functionality, presence of guidelines)\n",
    "Ordinal/Rating: Some indicators are provided as ratings or levels (e.g., facility level, staff qualifications)\n",
    "Continuous/Numerical: Counts (e.g., number of medication packs, patient load) and dates (e.g., last supervisory visit).\n",
    "A unique facility identifier (originally noted as P_HF) appears in all three files.\n",
    "2.\tHealth Worker Questionnaire (hw.xlsx):\n",
    "This dataset contains information on individual health workers, including demographics, training records, and a knowledge assessment related to malaria treatment protocols.\n",
    "Data Types:\n",
    "Numerical: Knowledge assessment scores, years of experience\n",
    "Categorical: Cadre, type of training received, gender, medication to be administered.\n",
    "It provides context on the human factors that can influence facility performance.\n",
    "3.\tExit Survey Data (exit.xlsx):\n",
    "This dataset captures patient-level information such as demographics, treatment received, and satisfaction levels. It offers critical insights into patient outcomes and service quality.\n",
    "Data Types:\n",
    "Categorical: Patient sex, diagnosis, treatment outcome.\n",
    "Numerical: Age, sometimes quantitative satisfaction ratings.\n",
    "\n"
   ]
  },
  {
   "cell_type": "code",
   "execution_count": null,
   "metadata": {},
   "outputs": [],
   "source": [
    "import polars as pl\n",
    "import numpy as np\n"
   ]
  },
  {
   "cell_type": "code",
   "execution_count": 3,
   "metadata": {},
   "outputs": [
    {
     "name": "stderr",
     "output_type": "stream",
     "text": [
      "Could not determine dtype for column 2, falling back to string\n",
      "Could not determine dtype for column 3, falling back to string\n",
      "Could not determine dtype for column 16, falling back to string\n",
      "Could not determine dtype for column 21, falling back to string\n",
      "Could not determine dtype for column 27, falling back to string\n",
      "Could not determine dtype for column 31, falling back to string\n",
      "Could not determine dtype for column 37, falling back to string\n",
      "Could not determine dtype for column 38, falling back to string\n",
      "Could not determine dtype for column 60, falling back to string\n",
      "Could not determine dtype for column 61, falling back to string\n",
      "Could not determine dtype for column 74, falling back to string\n",
      "Could not determine dtype for column 75, falling back to string\n",
      "Could not determine dtype for column 88, falling back to string\n",
      "Could not determine dtype for column 94, falling back to string\n",
      "Could not determine dtype for column 104, falling back to string\n",
      "Could not determine dtype for column 113, falling back to string\n",
      "Could not determine dtype for column 124, falling back to string\n",
      "Could not determine dtype for column 131, falling back to string\n",
      "Could not determine dtype for column 142, falling back to string\n",
      "Could not determine dtype for column 143, falling back to string\n",
      "Could not determine dtype for column 149, falling back to string\n",
      "Could not determine dtype for column 165, falling back to string\n",
      "Could not determine dtype for column 171, falling back to string\n",
      "Could not determine dtype for column 173, falling back to string\n",
      "Could not determine dtype for column 175, falling back to string\n",
      "Could not determine dtype for column 177, falling back to string\n",
      "Could not determine dtype for column 178, falling back to string\n",
      "Could not determine dtype for column 186, falling back to string\n",
      "Could not determine dtype for column 188, falling back to string\n",
      "Could not determine dtype for column 190, falling back to string\n",
      "Could not determine dtype for column 192, falling back to string\n",
      "Could not determine dtype for column 194, falling back to string\n",
      "Could not determine dtype for column 195, falling back to string\n",
      "Could not determine dtype for column 201, falling back to string\n",
      "Could not determine dtype for column 208, falling back to string\n",
      "Could not determine dtype for column 209, falling back to string\n",
      "Could not determine dtype for column 222, falling back to string\n",
      "Could not determine dtype for column 235, falling back to string\n",
      "Could not determine dtype for column 236, falling back to string\n",
      "Could not determine dtype for column 243, falling back to string\n",
      "Could not determine dtype for column 254, falling back to string\n",
      "Could not determine dtype for column 261, falling back to string\n",
      "Could not determine dtype for column 276, falling back to string\n",
      "Could not determine dtype for column 297, falling back to string\n",
      "Could not determine dtype for column 306, falling back to string\n",
      "Could not determine dtype for column 332, falling back to string\n",
      "Could not determine dtype for column 334, falling back to string\n",
      "Could not determine dtype for column 338, falling back to string\n",
      "Could not determine dtype for column 340, falling back to string\n",
      "Could not determine dtype for column 342, falling back to string\n",
      "Could not determine dtype for column 344, falling back to string\n",
      "Could not determine dtype for column 346, falling back to string\n",
      "Could not determine dtype for column 348, falling back to string\n",
      "Could not determine dtype for column 350, falling back to string\n",
      "Could not determine dtype for column 352, falling back to string\n",
      "Could not determine dtype for column 354, falling back to string\n",
      "Could not determine dtype for column 361, falling back to string\n",
      "Could not determine dtype for column 362, falling back to string\n",
      "Could not determine dtype for column 370, falling back to string\n",
      "Could not determine dtype for column 371, falling back to string\n"
     ]
    },
    {
     "data": {
      "text/html": [
       "<div><style>\n",
       ".dataframe > thead > tr,\n",
       ".dataframe > tbody > tr {\n",
       "  text-align: right;\n",
       "  white-space: pre-wrap;\n",
       "}\n",
       "</style>\n",
       "<small>shape: (5, 374)</small><table border=\"1\" class=\"dataframe\"><thead><tr><th>SubmissionDate</th><th>password</th><th>hf_info-opd_cm</th><th>hf_info-opd_hfa</th><th>hf_info-datetim</th><th>hf_info-team</th><th>hf_info-team_supervisor</th><th>hf_info-team_member_name</th><th>hf_info-hf_info_county</th><th>hf_info-hf_info_sub_county</th><th>hf_info-hf_name</th><th>hf_info-hf_id</th><th>hf_info-hf_type</th><th>hf_info-hf_replaced</th><th>hf_info-hf_replaced_reason</th><th>hf_info-hf_replaced_name</th><th>hf_info-data_collector</th><th>hf_info-gps_coord-Latitude</th><th>hf_info-gps_coord-Longitude</th><th>hf_info-gps_coord-Altitude</th><th>hf_info-gps_coord-Accuracy</th><th>hf_infrstrctr-hf_infrstrctr_title</th><th>hf_infrstrctr-hf_infrstrctr_elec</th><th>hf_infrstrctr-hf_infrstrctr_wtr</th><th>hf_infrstrctr-hf_infrstrctr_wgh_scal</th><th>hf_infrstrctr-hf_infrstrctr_func_thmtr</th><th>hf_infrstrctr-hf_infrstrctr_ntwrk_phne</th><th>hf_guid_chrts-hf_guid_chrts_title</th><th>hf_guid_chrts-hf_guid_chrts_guidln</th><th>hf_guid_chrts-hf_guid_chrts_imci</th><th>hf_guid_chrts-hf_guid_chrts_mal_mngt_buk</th><th>hf_guid_chrts-wall_chrt_expsd</th><th>hf_guid_chrts-hf_guid_chrts_alg_tx_chld</th><th>hf_guid_chrts-hf_guid_chrts_al_dos_schdl</th><th>hf_guid_chrts-hf_guid_chrts_mal_op_alg_adlt</th><th>hf_guid_chrts-hf_guid_chrts_mal_op_alg_adlt_chld_new</th><th>hf_guid_chrts-hf_guid_chrts_artsnt_iv_im_poster</th><th>&hellip;</th><th>stck_out_sp_tab-sp_tab_all_oct</th><th>stck_out_sp_tab-sp_tab_oct</th><th>stck_out_sp_tab-sp_tab_all_nov</th><th>stck_out_sp_tab-sp_tab_nov</th><th>stck_out_sp_tab-sp_tab_all_dec</th><th>stck_out_sp_tab-sp_tab_dec</th><th>stck_out_log_qn_tab-qn_tab_all_oct</th><th>stck_out_log_qn_tab-qn_tab_oct</th><th>stck_out_log_qn_tab-qn_tab_all_nov</th><th>stck_out_log_qn_tab-qn_tab_nov</th><th>stck_out_log_qn_tab-qn_tab_all_dec</th><th>stck_out_log_qn_tab-qn_tab_dec</th><th>stck_out_log_qn_inj-qn_inj_all_oct</th><th>stck_out_log_qn_inj-qn_inj_oct</th><th>stck_out_log_qn_inj-qn_inj_all_nov</th><th>stck_out_log_qn_inj-qn_inj_nov</th><th>stck_out_log_qn_inj-qn_inj_all_dec</th><th>stck_out_log_qn_inj-qn_inj_dec</th><th>stck_out_log_art_inj-artsn_inj_all_oct</th><th>stck_out_log_art_inj-artsn_inj_oct</th><th>stck_out_log_art_inj-artsn_inj_all_nov</th><th>stck_out_log_art_inj-artsn_inj_nov</th><th>stck_out_log_art_inj-artsn_inj_all_dec</th><th>stck_out_log_art_inj-artsn_inj_dec</th><th>end_</th><th>end_fin</th><th>meta-instanceID</th><th>meta-instanceName</th><th>KEY</th><th>SubmitterID</th><th>SubmitterName</th><th>AttachmentsPresent</th><th>AttachmentsExpected</th><th>Status</th><th>ReviewState</th><th>DeviceID</th><th>Edits</th></tr><tr><td>str</td><td>str</td><td>str</td><td>str</td><td>date</td><td>str</td><td>str</td><td>str</td><td>str</td><td>str</td><td>str</td><td>str</td><td>str</td><td>i64</td><td>str</td><td>str</td><td>str</td><td>f64</td><td>f64</td><td>f64</td><td>f64</td><td>str</td><td>i64</td><td>i64</td><td>i64</td><td>i64</td><td>i64</td><td>str</td><td>i64</td><td>i64</td><td>i64</td><td>str</td><td>i64</td><td>i64</td><td>i64</td><td>i64</td><td>i64</td><td>&hellip;</td><td>i64</td><td>str</td><td>i64</td><td>str</td><td>i64</td><td>str</td><td>i64</td><td>str</td><td>i64</td><td>str</td><td>i64</td><td>str</td><td>i64</td><td>str</td><td>i64</td><td>str</td><td>i64</td><td>str</td><td>i64</td><td>str</td><td>i64</td><td>str</td><td>i64</td><td>str</td><td>str</td><td>str</td><td>str</td><td>str</td><td>str</td><td>i64</td><td>str</td><td>i64</td><td>i64</td><td>str</td><td>str</td><td>str</td><td>i64</td></tr></thead><tbody><tr><td>&quot;2024-04-21T16:32:49.270Z&quot;</td><td>&quot;HFA2024&quot;</td><td>null</td><td>null</td><td>2024-04-08</td><td>&quot;team_3&quot;</td><td>&quot;Nicholas&quot;</td><td>&quot;Nicholas Lagat&quot;</td><td>&quot;kajiado&quot;</td><td>&quot;kajiado_west&quot;</td><td>&quot;olkiramatian_disp&quot;</td><td>&quot;3_16&quot;</td><td>&quot;D&quot;</td><td>1</td><td>&quot;Facility inaccessible&quot;</td><td>&quot;Oltepesi dispensary&quot;</td><td>null</td><td>-1.55872</td><td>36.47675</td><td>991.0</td><td>3.9</td><td>null</td><td>1</td><td>1</td><td>1</td><td>1</td><td>1</td><td>null</td><td>1</td><td>1</td><td>1</td><td>null</td><td>2</td><td>2</td><td>2</td><td>2</td><td>1</td><td>&hellip;</td><td>2</td><td>null</td><td>2</td><td>null</td><td>2</td><td>null</td><td>2</td><td>null</td><td>2</td><td>null</td><td>2</td><td>null</td><td>2</td><td>null</td><td>2</td><td>null</td><td>2</td><td>null</td><td>1</td><td>null</td><td>1</td><td>null</td><td>1</td><td>null</td><td>null</td><td>null</td><td>&quot;uuid:1e18ccd8-f4a8-48fe-9d00-d…</td><td>&quot;team_3&nbsp;&nbsp;&nbsp;olkiramatian_disp&quot;</td><td>&quot;uuid:1e18ccd8-f4a8-48fe-9d00-d…</td><td>260</td><td>&quot;Team 3 - Lower Eastern&quot;</td><td>0</td><td>0</td><td>null</td><td>null</td><td>&quot;collect:KAniqqDVb7jD298O&quot;</td><td>0</td></tr><tr><td>&quot;2024-04-21T16:26:55.495Z&quot;</td><td>&quot;HFA2024&quot;</td><td>null</td><td>null</td><td>2024-04-17</td><td>&quot;team_3&quot;</td><td>&quot;Nicholas&quot;</td><td>&quot;Nicholas Lagat&quot;</td><td>&quot;nairobi&quot;</td><td>&quot;mathare&quot;</td><td>&quot;upendo_disp&quot;</td><td>&quot;8_06&quot;</td><td>&quot;D&quot;</td><td>2</td><td>null</td><td>null</td><td>null</td><td>-1.263232</td><td>36.858389</td><td>1607.300049</td><td>4.783</td><td>null</td><td>1</td><td>1</td><td>1</td><td>1</td><td>1</td><td>null</td><td>1</td><td>1</td><td>1</td><td>null</td><td>2</td><td>2</td><td>2</td><td>2</td><td>2</td><td>&hellip;</td><td>2</td><td>null</td><td>2</td><td>null</td><td>2</td><td>null</td><td>2</td><td>null</td><td>2</td><td>null</td><td>2</td><td>null</td><td>2</td><td>null</td><td>2</td><td>null</td><td>2</td><td>null</td><td>2</td><td>null</td><td>2</td><td>null</td><td>2</td><td>null</td><td>null</td><td>null</td><td>&quot;uuid:23699268-3e9a-4aed-87bb-2…</td><td>&quot;team_3&nbsp;&nbsp;&nbsp;upendo_disp&quot;</td><td>&quot;uuid:23699268-3e9a-4aed-87bb-2…</td><td>260</td><td>&quot;Team 3 - Lower Eastern&quot;</td><td>0</td><td>0</td><td>null</td><td>null</td><td>&quot;collect:KAniqqDVb7jD298O&quot;</td><td>0</td></tr><tr><td>&quot;2024-04-18T09:28:53.259Z&quot;</td><td>&quot;HFA2024&quot;</td><td>null</td><td>null</td><td>2024-04-16</td><td>&quot;team_1&quot;</td><td>&quot;Hassanur&quot;</td><td>&quot;Hassannur Adan&quot;</td><td>&quot;meru_1&quot;</td><td>&quot;tigania_east&quot;</td><td>&quot;charuru_disp&quot;</td><td>&quot;5_28&quot;</td><td>&quot;D&quot;</td><td>2</td><td>null</td><td>null</td><td>null</td><td>0.1844416</td><td>37.839385</td><td>1684.0</td><td>4.9</td><td>null</td><td>1</td><td>1</td><td>1</td><td>1</td><td>1</td><td>null</td><td>1</td><td>2</td><td>2</td><td>null</td><td>2</td><td>1</td><td>2</td><td>1</td><td>2</td><td>&hellip;</td><td>2</td><td>null</td><td>2</td><td>null</td><td>2</td><td>null</td><td>2</td><td>null</td><td>2</td><td>null</td><td>2</td><td>null</td><td>2</td><td>null</td><td>2</td><td>null</td><td>2</td><td>null</td><td>2</td><td>null</td><td>2</td><td>null</td><td>2</td><td>null</td><td>null</td><td>null</td><td>&quot;uuid:619730e5-bff8-49ea-ab6b-e…</td><td>&quot;team_1&nbsp;&nbsp;&nbsp;charuru_disp&quot;</td><td>&quot;uuid:619730e5-bff8-49ea-ab6b-e…</td><td>258</td><td>&quot;Team 1 - North Eastern&quot;</td><td>0</td><td>0</td><td>null</td><td>null</td><td>&quot;collect:5K3B4vfDBW4G2H1A&quot;</td><td>0</td></tr><tr><td>&quot;2024-04-17T19:24:58.390Z&quot;</td><td>&quot;HFA2024&quot;</td><td>null</td><td>null</td><td>2024-04-17</td><td>&quot;team_5&quot;</td><td>&quot;Fridah&quot;</td><td>&quot;Fridah Kaitany&quot;</td><td>&quot;kiambu&quot;</td><td>&quot;githunguri&quot;</td><td>&quot;miguta_cmnty_disp&quot;</td><td>&quot;1_04&quot;</td><td>&quot;D&quot;</td><td>2</td><td>null</td><td>null</td><td>null</td><td>-1.070658</td><td>36.830314</td><td>1773.3</td><td>4.45</td><td>null</td><td>1</td><td>1</td><td>1</td><td>1</td><td>1</td><td>null</td><td>1</td><td>1</td><td>2</td><td>null</td><td>2</td><td>2</td><td>2</td><td>2</td><td>2</td><td>&hellip;</td><td>2</td><td>null</td><td>2</td><td>null</td><td>2</td><td>null</td><td>2</td><td>null</td><td>2</td><td>null</td><td>2</td><td>null</td><td>2</td><td>null</td><td>2</td><td>null</td><td>2</td><td>null</td><td>2</td><td>null</td><td>2</td><td>null</td><td>2</td><td>null</td><td>null</td><td>null</td><td>&quot;uuid:ea8cc8ed-847d-4698-a583-f…</td><td>&quot;team_5&nbsp;&nbsp;&nbsp;miguta_cmnty_disp&quot;</td><td>&quot;uuid:ea8cc8ed-847d-4698-a583-f…</td><td>262</td><td>&quot;Team 5 - Central&quot;</td><td>0</td><td>0</td><td>null</td><td>null</td><td>&quot;collect:KAN28nhI9AhY9Mby&quot;</td><td>0</td></tr><tr><td>&quot;2024-04-17T19:19:38.055Z&quot;</td><td>&quot;HFA2024&quot;</td><td>null</td><td>null</td><td>2024-03-24</td><td>&quot;team_5&quot;</td><td>&quot;Fridah&quot;</td><td>&quot;Fridah Kaitany&quot;</td><td>&quot;nyandarua&quot;</td><td>&quot;kinangop&quot;</td><td>&quot;bamboo_hc&quot;</td><td>&quot;1_12&quot;</td><td>&quot;HC&quot;</td><td>2</td><td>null</td><td>null</td><td>null</td><td>-0.870094</td><td>36.569176</td><td>0.0</td><td>20.1</td><td>null</td><td>1</td><td>1</td><td>1</td><td>1</td><td>1</td><td>null</td><td>2</td><td>1</td><td>2</td><td>null</td><td>2</td><td>2</td><td>2</td><td>2</td><td>2</td><td>&hellip;</td><td>2</td><td>null</td><td>2</td><td>null</td><td>2</td><td>null</td><td>2</td><td>null</td><td>2</td><td>null</td><td>2</td><td>null</td><td>2</td><td>null</td><td>2</td><td>null</td><td>2</td><td>null</td><td>2</td><td>null</td><td>2</td><td>null</td><td>2</td><td>null</td><td>null</td><td>null</td><td>&quot;uuid:acf0e322-6efb-4824-aa14-6…</td><td>&quot;team_5&nbsp;&nbsp;&nbsp;bamboo_hc&quot;</td><td>&quot;uuid:acf0e322-6efb-4824-aa14-6…</td><td>262</td><td>&quot;Team 5 - Central&quot;</td><td>0</td><td>0</td><td>null</td><td>null</td><td>&quot;collect:KAN28nhI9AhY9Mby&quot;</td><td>0</td></tr></tbody></table></div>"
      ],
      "text/plain": [
       "shape: (5, 374)\n",
       "┌─────────────┬──────────┬─────────────┬────────────┬───┬────────┬────────────┬────────────┬───────┐\n",
       "│ SubmissionD ┆ password ┆ hf_info-opd ┆ hf_info-op ┆ … ┆ Status ┆ ReviewStat ┆ DeviceID   ┆ Edits │\n",
       "│ ate         ┆ ---      ┆ _cm         ┆ d_hfa      ┆   ┆ ---    ┆ e          ┆ ---        ┆ ---   │\n",
       "│ ---         ┆ str      ┆ ---         ┆ ---        ┆   ┆ str    ┆ ---        ┆ str        ┆ i64   │\n",
       "│ str         ┆          ┆ str         ┆ str        ┆   ┆        ┆ str        ┆            ┆       │\n",
       "╞═════════════╪══════════╪═════════════╪════════════╪═══╪════════╪════════════╪════════════╪═══════╡\n",
       "│ 2024-04-21T ┆ HFA2024  ┆ null        ┆ null       ┆ … ┆ null   ┆ null       ┆ collect:KA ┆ 0     │\n",
       "│ 16:32:49.27 ┆          ┆             ┆            ┆   ┆        ┆            ┆ niqqDVb7jD ┆       │\n",
       "│ 0Z          ┆          ┆             ┆            ┆   ┆        ┆            ┆ 298O       ┆       │\n",
       "│ 2024-04-21T ┆ HFA2024  ┆ null        ┆ null       ┆ … ┆ null   ┆ null       ┆ collect:KA ┆ 0     │\n",
       "│ 16:26:55.49 ┆          ┆             ┆            ┆   ┆        ┆            ┆ niqqDVb7jD ┆       │\n",
       "│ 5Z          ┆          ┆             ┆            ┆   ┆        ┆            ┆ 298O       ┆       │\n",
       "│ 2024-04-18T ┆ HFA2024  ┆ null        ┆ null       ┆ … ┆ null   ┆ null       ┆ collect:5K ┆ 0     │\n",
       "│ 09:28:53.25 ┆          ┆             ┆            ┆   ┆        ┆            ┆ 3B4vfDBW4G ┆       │\n",
       "│ 9Z          ┆          ┆             ┆            ┆   ┆        ┆            ┆ 2H1A       ┆       │\n",
       "│ 2024-04-17T ┆ HFA2024  ┆ null        ┆ null       ┆ … ┆ null   ┆ null       ┆ collect:KA ┆ 0     │\n",
       "│ 19:24:58.39 ┆          ┆             ┆            ┆   ┆        ┆            ┆ N28nhI9AhY ┆       │\n",
       "│ 0Z          ┆          ┆             ┆            ┆   ┆        ┆            ┆ 9Mby       ┆       │\n",
       "│ 2024-04-17T ┆ HFA2024  ┆ null        ┆ null       ┆ … ┆ null   ┆ null       ┆ collect:KA ┆ 0     │\n",
       "│ 19:19:38.05 ┆          ┆             ┆            ┆   ┆        ┆            ┆ N28nhI9AhY ┆       │\n",
       "│ 5Z          ┆          ┆             ┆            ┆   ┆        ┆            ┆ 9Mby       ┆       │\n",
       "└─────────────┴──────────┴─────────────┴────────────┴───┴────────┴────────────┴────────────┴───────┘"
      ]
     },
     "execution_count": 3,
     "metadata": {},
     "output_type": "execute_result"
    }
   ],
   "source": [
    "outpatient_hf = pl.read_excel(\"fwdmalariahealthfacilityassessmentdatasubmittedasat\\Outpatient-Form-1-Health-Facility-Assessment.xlsx\")\n",
    "outpatient_hf.head()"
   ]
  },
  {
   "cell_type": "code",
   "execution_count": 11,
   "metadata": {},
   "outputs": [
    {
     "name": "stdout",
     "output_type": "stream",
     "text": [
      "shape: (104, 528)\n",
      "┌─────────────┬──────────┬─────────────┬────────────┬───┬────────┬────────────┬────────────┬───────┐\n",
      "│ SubmissionD ┆ password ┆ title_main- ┆ title_main ┆ … ┆ Status ┆ ReviewStat ┆ DeviceID   ┆ Edits │\n",
      "│ ate         ┆ ---      ┆ assessment_ ┆ -form_titl ┆   ┆ ---    ┆ e          ┆ ---        ┆ ---   │\n",
      "│ ---         ┆ str      ┆ op_ip       ┆ e          ┆   ┆ str    ┆ ---        ┆ str        ┆ i64   │\n",
      "│ str         ┆          ┆ ---         ┆ ---        ┆   ┆        ┆ str        ┆            ┆       │\n",
      "│             ┆          ┆ str         ┆ str        ┆   ┆        ┆            ┆            ┆       │\n",
      "╞═════════════╪══════════╪═════════════╪════════════╪═══╪════════╪════════════╪════════════╪═══════╡\n",
      "│ 2024-04-19T ┆ HFA2024  ┆ null        ┆ null       ┆ … ┆ null   ┆ null       ┆ collect:KA ┆ 0     │\n",
      "│ 03:58:51.01 ┆          ┆             ┆            ┆   ┆        ┆            ┆ N28nhI9AhY ┆       │\n",
      "│ 5Z          ┆          ┆             ┆            ┆   ┆        ┆            ┆ 9Mby       ┆       │\n",
      "│ 2024-04-17T ┆ HFA2024  ┆ null        ┆ null       ┆ … ┆ null   ┆ null       ┆ collect:s5 ┆ 0     │\n",
      "│ 19:09:01.73 ┆          ┆             ┆            ┆   ┆        ┆            ┆ Jxme6lg2Fo ┆       │\n",
      "│ 8Z          ┆          ┆             ┆            ┆   ┆        ┆            ┆ q6kw       ┆       │\n",
      "│ 2024-04-17T ┆ HFA2024  ┆ null        ┆ null       ┆ … ┆ null   ┆ null       ┆ collect:ls ┆ 0     │\n",
      "│ 16:44:02.85 ┆          ┆             ┆            ┆   ┆        ┆            ┆ 01WnSDTKdk ┆       │\n",
      "│ 2Z          ┆          ┆             ┆            ┆   ┆        ┆            ┆ BtaZ       ┆       │\n",
      "│ 2024-04-17T ┆ HFA2024  ┆ null        ┆ null       ┆ … ┆ null   ┆ null       ┆ collect:Ed ┆ 0     │\n",
      "│ 16:20:00.70 ┆          ┆             ┆            ┆   ┆        ┆            ┆ KN29cBPpyv ┆       │\n",
      "│ 8Z          ┆          ┆             ┆            ┆   ┆        ┆            ┆ Wh2w       ┆       │\n",
      "│ 2024-04-17T ┆ HFA2024  ┆ null        ┆ null       ┆ … ┆ null   ┆ null       ┆ collect:K9 ┆ 0     │\n",
      "│ 11:09:49.87 ┆          ┆             ┆            ┆   ┆        ┆            ┆ EDcAaz4ZoG ┆       │\n",
      "│ 4Z          ┆          ┆             ┆            ┆   ┆        ┆            ┆ US9W       ┆       │\n",
      "│ …           ┆ …        ┆ …           ┆ …          ┆ … ┆ …      ┆ …          ┆ …          ┆ …     │\n",
      "│ 2024-03-14T ┆ HFA2024  ┆ null        ┆ null       ┆ … ┆ null   ┆ null       ┆ collect:na ┆ 0     │\n",
      "│ 09:58:43.59 ┆          ┆             ┆            ┆   ┆        ┆            ┆ qAxAJ1oZS7 ┆       │\n",
      "│ 6Z          ┆          ┆             ┆            ┆   ┆        ┆            ┆ zhly       ┆       │\n",
      "│ 2024-03-14T ┆ HFA2024  ┆ null        ┆ null       ┆ … ┆ null   ┆ null       ┆ collect:mt ┆ 0     │\n",
      "│ 09:56:40.20 ┆          ┆             ┆            ┆   ┆        ┆            ┆ 8DxW06hVgp ┆       │\n",
      "│ 5Z          ┆          ┆             ┆            ┆   ┆        ┆            ┆ aNjI       ┆       │\n",
      "│ 2024-03-14T ┆ HFA2024  ┆ null        ┆ null       ┆ … ┆ null   ┆ null       ┆ collect:IB ┆ 0     │\n",
      "│ 09:56:35.02 ┆          ┆             ┆            ┆   ┆        ┆            ┆ JtsDVm9oOu ┆       │\n",
      "│ 2Z          ┆          ┆             ┆            ┆   ┆        ┆            ┆ XC1g       ┆       │\n",
      "│ 2024-03-14T ┆ HFA2024  ┆ null        ┆ null       ┆ … ┆ null   ┆ null       ┆ collect:iN ┆ 0     │\n",
      "│ 09:53:58.29 ┆          ┆             ┆            ┆   ┆        ┆            ┆ 2FlRlv4Rqb ┆       │\n",
      "│ 2Z          ┆          ┆             ┆            ┆   ┆        ┆            ┆ vzEt       ┆       │\n",
      "│ 2024-03-14T ┆ HFA2024  ┆ null        ┆ null       ┆ … ┆ null   ┆ null       ┆ collect:ar ┆ 0     │\n",
      "│ 09:35:10.22 ┆          ┆             ┆            ┆   ┆        ┆            ┆ YPWULU3PcL ┆       │\n",
      "│ 5Z          ┆          ┆             ┆            ┆   ┆        ┆            ┆ vePj       ┆       │\n",
      "└─────────────┴──────────┴─────────────┴────────────┴───┴────────┴────────────┴────────────┴───────┘\n"
     ]
    }
   ],
   "source": [
    "print(outpatient_hf)"
   ]
  },
  {
   "cell_type": "code",
   "execution_count": null,
   "metadata": {},
   "outputs": [],
   "source": []
  }
 ],
 "metadata": {
  "kernelspec": {
   "display_name": "malariavenv",
   "language": "python",
   "name": "python3"
  },
  "language_info": {
   "codemirror_mode": {
    "name": "ipython",
    "version": 3
   },
   "file_extension": ".py",
   "mimetype": "text/x-python",
   "name": "python",
   "nbconvert_exporter": "python",
   "pygments_lexer": "ipython3",
   "version": "3.10.16"
  }
 },
 "nbformat": 4,
 "nbformat_minor": 2
}
